{
 "cells": [
  {
   "cell_type": "markdown",
   "metadata": {},
   "source": [
    "<img src=\"https://s3-api.us-geo.objectstorage.softlayer.net/cf-courses-data/CognitiveClass/DL0110EN/notebook_images%20/cc-logo-square.png\" width=\"200\" alt=\"cognitiveclass.ai logo\" />"
   ]
  },
  {
   "cell_type": "markdown",
   "metadata": {},
   "source": [
    "<h1> PCA for Large Datasets </h1> "
   ]
  },
  {
   "cell_type": "markdown",
   "metadata": {},
   "source": [
    "\n",
    "<p>In this lab, you will calculate the covariance matrix for datasets with a large number of samples; then, you will use PCA to transform the datase.</p>"
   ]
  },
  {
   "cell_type": "markdown",
   "metadata": {},
   "source": [
    "<h2>1- Preparation</h2>"
   ]
  },
  {
   "cell_type": "markdown",
   "metadata": {},
   "source": [
    "Download eigenvectors and eigenvalues:"
   ]
  },
  {
   "cell_type": "code",
   "execution_count": 1,
   "metadata": {},
   "outputs": [
    {
     "name": "stdout",
     "output_type": "stream",
     "text": [
      "--2023-10-10 17:20:46--  https://s3-api.us-geo.objectstorage.softlayer.net/cf-courses-data/CognitiveClass/meet_up/12.02.2020/eigenvectors.pt\n",
      "Resolving s3-api.us-geo.objectstorage.softlayer.net (s3-api.us-geo.objectstorage.softlayer.net)... 67.228.254.196\n",
      "Connecting to s3-api.us-geo.objectstorage.softlayer.net (s3-api.us-geo.objectstorage.softlayer.net)|67.228.254.196|:443... connected.\n",
      "HTTP request sent, awaiting response... 200 OK\n",
      "Length: 262493 (256K) [application/octet-stream]\n",
      "Saving to: ‘eigenvectors.pt’\n",
      "\n",
      "eigenvectors.pt     100%[===================>] 256.34K   507KB/s    in 0.5s    \n",
      "\n",
      "2023-10-10 17:20:48 (507 KB/s) - ‘eigenvectors.pt’ saved [262493/262493]\n",
      "\n",
      "--2023-10-10 17:20:48--  https://s3-api.us-geo.objectstorage.softlayer.net/cf-courses-data/CognitiveClass/meet_up/12.02.2020/eigenvalues.pt\n",
      "Resolving s3-api.us-geo.objectstorage.softlayer.net (s3-api.us-geo.objectstorage.softlayer.net)... 67.228.254.196\n",
      "Connecting to s3-api.us-geo.objectstorage.softlayer.net (s3-api.us-geo.objectstorage.softlayer.net)|67.228.254.196|:443... connected.\n",
      "HTTP request sent, awaiting response... 200 OK\n",
      "Length: 2393 (2.3K) [application/octet-stream]\n",
      "Saving to: ‘eigenvalues.pt’\n",
      "\n",
      "eigenvalues.pt      100%[===================>]   2.34K  --.-KB/s    in 0s      \n",
      "\n",
      "2023-10-10 17:20:48 (1.29 GB/s) - ‘eigenvalues.pt’ saved [2393/2393]\n",
      "\n"
     ]
    }
   ],
   "source": [
    "! wget https://s3-api.us-geo.objectstorage.softlayer.net/cf-courses-data/CognitiveClass/meet_up/12.02.2020/eigenvectors.pt\n",
    "! wget https://s3-api.us-geo.objectstorage.softlayer.net/cf-courses-data/CognitiveClass/meet_up/12.02.2020/eigenvalues.pt"
   ]
  },
  {
   "cell_type": "code",
   "execution_count": 2,
   "metadata": {
    "collapsed": true
   },
   "outputs": [
    {
     "name": "stdout",
     "output_type": "stream",
     "text": [
      "Collecting Pillow==6.2.2\n",
      "  Downloading Pillow-6.2.2.tar.gz (37.8 MB)\n",
      "\u001b[2K     \u001b[90m━━━━━━━━━━━━━━━━━━━━━━━━━━━━━━━━━━━━━━━━\u001b[0m \u001b[32m37.8/37.8 MB\u001b[0m \u001b[31m8.5 MB/s\u001b[0m eta \u001b[36m0:00:00\u001b[0m00:01\u001b[0m00:01\u001b[0m\n",
      "\u001b[?25h  Preparing metadata (setup.py) ... \u001b[?25ldone\n",
      "\u001b[?25hBuilding wheels for collected packages: Pillow\n",
      "  Building wheel for Pillow (setup.py) ... \u001b[?25lerror\n",
      "  \u001b[1;31merror\u001b[0m: \u001b[1msubprocess-exited-with-error\u001b[0m\n",
      "  \n",
      "  \u001b[31m×\u001b[0m \u001b[32mpython setup.py bdist_wheel\u001b[0m did not run successfully.\n",
      "  \u001b[31m│\u001b[0m exit code: \u001b[1;36m1\u001b[0m\n",
      "  \u001b[31m╰─>\u001b[0m \u001b[31m[185 lines of output]\u001b[0m\n",
      "  \u001b[31m   \u001b[0m running bdist_wheel\n",
      "  \u001b[31m   \u001b[0m running build\n",
      "  \u001b[31m   \u001b[0m running build_py\n",
      "  \u001b[31m   \u001b[0m creating build\n",
      "  \u001b[31m   \u001b[0m creating build/lib.linux-x86_64-cpython-310\n",
      "  \u001b[31m   \u001b[0m creating build/lib.linux-x86_64-cpython-310/PIL\n",
      "  \u001b[31m   \u001b[0m copying src/PIL/__main__.py -> build/lib.linux-x86_64-cpython-310/PIL\n",
      "  \u001b[31m   \u001b[0m copying src/PIL/ImageDraw2.py -> build/lib.linux-x86_64-cpython-310/PIL\n",
      "  \u001b[31m   \u001b[0m copying src/PIL/ImageMode.py -> build/lib.linux-x86_64-cpython-310/PIL\n",
      "  \u001b[31m   \u001b[0m copying src/PIL/PaletteFile.py -> build/lib.linux-x86_64-cpython-310/PIL\n",
      "  \u001b[31m   \u001b[0m copying src/PIL/DdsImagePlugin.py -> build/lib.linux-x86_64-cpython-310/PIL\n",
      "  \u001b[31m   \u001b[0m copying src/PIL/PixarImagePlugin.py -> build/lib.linux-x86_64-cpython-310/PIL\n",
      "  \u001b[31m   \u001b[0m copying src/PIL/ImageChops.py -> build/lib.linux-x86_64-cpython-310/PIL\n",
      "  \u001b[31m   \u001b[0m copying src/PIL/ImImagePlugin.py -> build/lib.linux-x86_64-cpython-310/PIL\n",
      "  \u001b[31m   \u001b[0m copying src/PIL/MpoImagePlugin.py -> build/lib.linux-x86_64-cpython-310/PIL\n",
      "  \u001b[31m   \u001b[0m copying src/PIL/WalImageFile.py -> build/lib.linux-x86_64-cpython-310/PIL\n",
      "  \u001b[31m   \u001b[0m copying src/PIL/PcdImagePlugin.py -> build/lib.linux-x86_64-cpython-310/PIL\n",
      "  \u001b[31m   \u001b[0m copying src/PIL/ImageFont.py -> build/lib.linux-x86_64-cpython-310/PIL\n",
      "  \u001b[31m   \u001b[0m copying src/PIL/PSDraw.py -> build/lib.linux-x86_64-cpython-310/PIL\n",
      "  \u001b[31m   \u001b[0m copying src/PIL/ImageMorph.py -> build/lib.linux-x86_64-cpython-310/PIL\n",
      "  \u001b[31m   \u001b[0m copying src/PIL/IcoImagePlugin.py -> build/lib.linux-x86_64-cpython-310/PIL\n",
      "  \u001b[31m   \u001b[0m copying src/PIL/PyAccess.py -> build/lib.linux-x86_64-cpython-310/PIL\n",
      "  \u001b[31m   \u001b[0m copying src/PIL/ImageGrab.py -> build/lib.linux-x86_64-cpython-310/PIL\n",
      "  \u001b[31m   \u001b[0m copying src/PIL/TgaImagePlugin.py -> build/lib.linux-x86_64-cpython-310/PIL\n",
      "  \u001b[31m   \u001b[0m copying src/PIL/McIdasImagePlugin.py -> build/lib.linux-x86_64-cpython-310/PIL\n",
      "  \u001b[31m   \u001b[0m copying src/PIL/DcxImagePlugin.py -> build/lib.linux-x86_64-cpython-310/PIL\n",
      "  \u001b[31m   \u001b[0m copying src/PIL/IptcImagePlugin.py -> build/lib.linux-x86_64-cpython-310/PIL\n",
      "  \u001b[31m   \u001b[0m copying src/PIL/ImageTk.py -> build/lib.linux-x86_64-cpython-310/PIL\n",
      "  \u001b[31m   \u001b[0m copying src/PIL/ContainerIO.py -> build/lib.linux-x86_64-cpython-310/PIL\n",
      "  \u001b[31m   \u001b[0m copying src/PIL/ImageCms.py -> build/lib.linux-x86_64-cpython-310/PIL\n",
      "  \u001b[31m   \u001b[0m copying src/PIL/ImageStat.py -> build/lib.linux-x86_64-cpython-310/PIL\n",
      "  \u001b[31m   \u001b[0m copying src/PIL/GdImageFile.py -> build/lib.linux-x86_64-cpython-310/PIL\n",
      "  \u001b[31m   \u001b[0m copying src/PIL/ImageDraw.py -> build/lib.linux-x86_64-cpython-310/PIL\n",
      "  \u001b[31m   \u001b[0m copying src/PIL/CurImagePlugin.py -> build/lib.linux-x86_64-cpython-310/PIL\n",
      "  \u001b[31m   \u001b[0m copying src/PIL/PalmImagePlugin.py -> build/lib.linux-x86_64-cpython-310/PIL\n",
      "  \u001b[31m   \u001b[0m copying src/PIL/MicImagePlugin.py -> build/lib.linux-x86_64-cpython-310/PIL\n",
      "  \u001b[31m   \u001b[0m copying src/PIL/ImageSequence.py -> build/lib.linux-x86_64-cpython-310/PIL\n",
      "  \u001b[31m   \u001b[0m copying src/PIL/BufrStubImagePlugin.py -> build/lib.linux-x86_64-cpython-310/PIL\n",
      "  \u001b[31m   \u001b[0m copying src/PIL/ImageShow.py -> build/lib.linux-x86_64-cpython-310/PIL\n",
      "  \u001b[31m   \u001b[0m copying src/PIL/BdfFontFile.py -> build/lib.linux-x86_64-cpython-310/PIL\n",
      "  \u001b[31m   \u001b[0m copying src/PIL/ImageOps.py -> build/lib.linux-x86_64-cpython-310/PIL\n",
      "  \u001b[31m   \u001b[0m copying src/PIL/GbrImagePlugin.py -> build/lib.linux-x86_64-cpython-310/PIL\n",
      "  \u001b[31m   \u001b[0m copying src/PIL/JpegImagePlugin.py -> build/lib.linux-x86_64-cpython-310/PIL\n",
      "  \u001b[31m   \u001b[0m copying src/PIL/ImagePath.py -> build/lib.linux-x86_64-cpython-310/PIL\n",
      "  \u001b[31m   \u001b[0m copying src/PIL/SunImagePlugin.py -> build/lib.linux-x86_64-cpython-310/PIL\n",
      "  \u001b[31m   \u001b[0m copying src/PIL/GribStubImagePlugin.py -> build/lib.linux-x86_64-cpython-310/PIL\n",
      "  \u001b[31m   \u001b[0m copying src/PIL/MpegImagePlugin.py -> build/lib.linux-x86_64-cpython-310/PIL\n",
      "  \u001b[31m   \u001b[0m copying src/PIL/MspImagePlugin.py -> build/lib.linux-x86_64-cpython-310/PIL\n",
      "  \u001b[31m   \u001b[0m copying src/PIL/GimpPaletteFile.py -> build/lib.linux-x86_64-cpython-310/PIL\n",
      "  \u001b[31m   \u001b[0m copying src/PIL/FitsStubImagePlugin.py -> build/lib.linux-x86_64-cpython-310/PIL\n",
      "  \u001b[31m   \u001b[0m copying src/PIL/ImageQt.py -> build/lib.linux-x86_64-cpython-310/PIL\n",
      "  \u001b[31m   \u001b[0m copying src/PIL/XVThumbImagePlugin.py -> build/lib.linux-x86_64-cpython-310/PIL\n",
      "  \u001b[31m   \u001b[0m copying src/PIL/PcfFontFile.py -> build/lib.linux-x86_64-cpython-310/PIL\n",
      "  \u001b[31m   \u001b[0m copying src/PIL/TiffTags.py -> build/lib.linux-x86_64-cpython-310/PIL\n",
      "  \u001b[31m   \u001b[0m copying src/PIL/ExifTags.py -> build/lib.linux-x86_64-cpython-310/PIL\n",
      "  \u001b[31m   \u001b[0m copying src/PIL/BmpImagePlugin.py -> build/lib.linux-x86_64-cpython-310/PIL\n",
      "  \u001b[31m   \u001b[0m copying src/PIL/EpsImagePlugin.py -> build/lib.linux-x86_64-cpython-310/PIL\n",
      "  \u001b[31m   \u001b[0m copying src/PIL/Jpeg2KImagePlugin.py -> build/lib.linux-x86_64-cpython-310/PIL\n",
      "  \u001b[31m   \u001b[0m copying src/PIL/FliImagePlugin.py -> build/lib.linux-x86_64-cpython-310/PIL\n",
      "  \u001b[31m   \u001b[0m copying src/PIL/PdfParser.py -> build/lib.linux-x86_64-cpython-310/PIL\n",
      "  \u001b[31m   \u001b[0m copying src/PIL/PcxImagePlugin.py -> build/lib.linux-x86_64-cpython-310/PIL\n",
      "  \u001b[31m   \u001b[0m copying src/PIL/ImageWin.py -> build/lib.linux-x86_64-cpython-310/PIL\n",
      "  \u001b[31m   \u001b[0m copying src/PIL/features.py -> build/lib.linux-x86_64-cpython-310/PIL\n",
      "  \u001b[31m   \u001b[0m copying src/PIL/GimpGradientFile.py -> build/lib.linux-x86_64-cpython-310/PIL\n",
      "  \u001b[31m   \u001b[0m copying src/PIL/ImageFilter.py -> build/lib.linux-x86_64-cpython-310/PIL\n",
      "  \u001b[31m   \u001b[0m copying src/PIL/_binary.py -> build/lib.linux-x86_64-cpython-310/PIL\n",
      "  \u001b[31m   \u001b[0m copying src/PIL/WebPImagePlugin.py -> build/lib.linux-x86_64-cpython-310/PIL\n",
      "  \u001b[31m   \u001b[0m copying src/PIL/FontFile.py -> build/lib.linux-x86_64-cpython-310/PIL\n",
      "  \u001b[31m   \u001b[0m copying src/PIL/ImageEnhance.py -> build/lib.linux-x86_64-cpython-310/PIL\n",
      "  \u001b[31m   \u001b[0m copying src/PIL/ImageTransform.py -> build/lib.linux-x86_64-cpython-310/PIL\n",
      "  \u001b[31m   \u001b[0m copying src/PIL/TarIO.py -> build/lib.linux-x86_64-cpython-310/PIL\n",
      "  \u001b[31m   \u001b[0m copying src/PIL/_version.py -> build/lib.linux-x86_64-cpython-310/PIL\n",
      "  \u001b[31m   \u001b[0m copying src/PIL/TiffImagePlugin.py -> build/lib.linux-x86_64-cpython-310/PIL\n",
      "  \u001b[31m   \u001b[0m copying src/PIL/ImagePalette.py -> build/lib.linux-x86_64-cpython-310/PIL\n",
      "  \u001b[31m   \u001b[0m copying src/PIL/Hdf5StubImagePlugin.py -> build/lib.linux-x86_64-cpython-310/PIL\n",
      "  \u001b[31m   \u001b[0m copying src/PIL/GifImagePlugin.py -> build/lib.linux-x86_64-cpython-310/PIL\n",
      "  \u001b[31m   \u001b[0m copying src/PIL/PngImagePlugin.py -> build/lib.linux-x86_64-cpython-310/PIL\n",
      "  \u001b[31m   \u001b[0m copying src/PIL/ImageColor.py -> build/lib.linux-x86_64-cpython-310/PIL\n",
      "  \u001b[31m   \u001b[0m copying src/PIL/FtexImagePlugin.py -> build/lib.linux-x86_64-cpython-310/PIL\n",
      "  \u001b[31m   \u001b[0m copying src/PIL/IcnsImagePlugin.py -> build/lib.linux-x86_64-cpython-310/PIL\n",
      "  \u001b[31m   \u001b[0m copying src/PIL/ImageMath.py -> build/lib.linux-x86_64-cpython-310/PIL\n",
      "  \u001b[31m   \u001b[0m copying src/PIL/ImageFile.py -> build/lib.linux-x86_64-cpython-310/PIL\n",
      "  \u001b[31m   \u001b[0m copying src/PIL/PpmImagePlugin.py -> build/lib.linux-x86_64-cpython-310/PIL\n",
      "  \u001b[31m   \u001b[0m copying src/PIL/Image.py -> build/lib.linux-x86_64-cpython-310/PIL\n",
      "  \u001b[31m   \u001b[0m copying src/PIL/JpegPresets.py -> build/lib.linux-x86_64-cpython-310/PIL\n",
      "  \u001b[31m   \u001b[0m copying src/PIL/WmfImagePlugin.py -> build/lib.linux-x86_64-cpython-310/PIL\n",
      "  \u001b[31m   \u001b[0m copying src/PIL/__init__.py -> build/lib.linux-x86_64-cpython-310/PIL\n",
      "  \u001b[31m   \u001b[0m copying src/PIL/XbmImagePlugin.py -> build/lib.linux-x86_64-cpython-310/PIL\n",
      "  \u001b[31m   \u001b[0m copying src/PIL/ImtImagePlugin.py -> build/lib.linux-x86_64-cpython-310/PIL\n",
      "  \u001b[31m   \u001b[0m copying src/PIL/PsdImagePlugin.py -> build/lib.linux-x86_64-cpython-310/PIL\n",
      "  \u001b[31m   \u001b[0m copying src/PIL/XpmImagePlugin.py -> build/lib.linux-x86_64-cpython-310/PIL\n",
      "  \u001b[31m   \u001b[0m copying src/PIL/FpxImagePlugin.py -> build/lib.linux-x86_64-cpython-310/PIL\n",
      "  \u001b[31m   \u001b[0m copying src/PIL/_util.py -> build/lib.linux-x86_64-cpython-310/PIL\n",
      "  \u001b[31m   \u001b[0m copying src/PIL/BlpImagePlugin.py -> build/lib.linux-x86_64-cpython-310/PIL\n",
      "  \u001b[31m   \u001b[0m copying src/PIL/SgiImagePlugin.py -> build/lib.linux-x86_64-cpython-310/PIL\n",
      "  \u001b[31m   \u001b[0m copying src/PIL/SpiderImagePlugin.py -> build/lib.linux-x86_64-cpython-310/PIL\n",
      "  \u001b[31m   \u001b[0m copying src/PIL/_tkinter_finder.py -> build/lib.linux-x86_64-cpython-310/PIL\n",
      "  \u001b[31m   \u001b[0m copying src/PIL/PdfImagePlugin.py -> build/lib.linux-x86_64-cpython-310/PIL\n",
      "  \u001b[31m   \u001b[0m running egg_info\n",
      "  \u001b[31m   \u001b[0m writing src/Pillow.egg-info/PKG-INFO\n",
      "  \u001b[31m   \u001b[0m writing dependency_links to src/Pillow.egg-info/dependency_links.txt\n",
      "  \u001b[31m   \u001b[0m writing top-level names to src/Pillow.egg-info/top_level.txt\n",
      "  \u001b[31m   \u001b[0m listing git files failed - pretending there aren't any\n",
      "  \u001b[31m   \u001b[0m reading manifest file 'src/Pillow.egg-info/SOURCES.txt'\n",
      "  \u001b[31m   \u001b[0m reading manifest template 'MANIFEST.in'\n",
      "  \u001b[31m   \u001b[0m warning: no files found matching '*.c'\n",
      "  \u001b[31m   \u001b[0m warning: no files found matching '*.h'\n",
      "  \u001b[31m   \u001b[0m warning: no files found matching '*.sh'\n",
      "  \u001b[31m   \u001b[0m warning: no previously-included files found matching '.appveyor.yml'\n",
      "  \u001b[31m   \u001b[0m warning: no previously-included files found matching '.coveragerc'\n",
      "  \u001b[31m   \u001b[0m warning: no previously-included files found matching '.codecov.yml'\n",
      "  \u001b[31m   \u001b[0m warning: no previously-included files found matching '.editorconfig'\n",
      "  \u001b[31m   \u001b[0m warning: no previously-included files found matching '.readthedocs.yml'\n",
      "  \u001b[31m   \u001b[0m warning: no previously-included files found matching 'azure-pipelines.yml'\n",
      "  \u001b[31m   \u001b[0m warning: no previously-included files matching '.git*' found anywhere in distribution\n",
      "  \u001b[31m   \u001b[0m warning: no previously-included files matching '*.pyc' found anywhere in distribution\n",
      "  \u001b[31m   \u001b[0m warning: no previously-included files matching '*.so' found anywhere in distribution\n",
      "  \u001b[31m   \u001b[0m no previously-included directories found matching '.azure-pipelines'\n",
      "  \u001b[31m   \u001b[0m no previously-included directories found matching '.travis'\n",
      "  \u001b[31m   \u001b[0m adding license file 'LICENSE'\n",
      "  \u001b[31m   \u001b[0m writing manifest file 'src/Pillow.egg-info/SOURCES.txt'\n",
      "  \u001b[31m   \u001b[0m running build_ext\n",
      "  \u001b[31m   \u001b[0m \n",
      "  \u001b[31m   \u001b[0m \n",
      "  \u001b[31m   \u001b[0m The headers or library files could not be found for jpeg,\n",
      "  \u001b[31m   \u001b[0m a required dependency when compiling Pillow from source.\n",
      "  \u001b[31m   \u001b[0m \n",
      "  \u001b[31m   \u001b[0m Please see the install instructions at:\n",
      "  \u001b[31m   \u001b[0m    https://pillow.readthedocs.io/en/latest/installation.html\n",
      "  \u001b[31m   \u001b[0m \n",
      "  \u001b[31m   \u001b[0m Traceback (most recent call last):\n",
      "  \u001b[31m   \u001b[0m   File \"/tmp/pip-install-m05bgw7v/pillow_e9306131ebb9498c91d1b53f45bd6878/setup.py\", line 852, in <module>\n",
      "  \u001b[31m   \u001b[0m     setup(\n",
      "  \u001b[31m   \u001b[0m   File \"/home/hayk/.pyenv/versions/3.10.6/envs/lewagon/lib/python3.10/site-packages/setuptools/__init__.py\", line 87, in setup\n",
      "  \u001b[31m   \u001b[0m     return distutils.core.setup(**attrs)\n",
      "  \u001b[31m   \u001b[0m   File \"/home/hayk/.pyenv/versions/3.10.6/envs/lewagon/lib/python3.10/site-packages/setuptools/_distutils/core.py\", line 177, in setup\n",
      "  \u001b[31m   \u001b[0m     return run_commands(dist)\n",
      "  \u001b[31m   \u001b[0m   File \"/home/hayk/.pyenv/versions/3.10.6/envs/lewagon/lib/python3.10/site-packages/setuptools/_distutils/core.py\", line 193, in run_commands\n",
      "  \u001b[31m   \u001b[0m     dist.run_commands()\n",
      "  \u001b[31m   \u001b[0m   File \"/home/hayk/.pyenv/versions/3.10.6/envs/lewagon/lib/python3.10/site-packages/setuptools/_distutils/dist.py\", line 968, in run_commands\n",
      "  \u001b[31m   \u001b[0m     self.run_command(cmd)\n",
      "  \u001b[31m   \u001b[0m   File \"/home/hayk/.pyenv/versions/3.10.6/envs/lewagon/lib/python3.10/site-packages/setuptools/dist.py\", line 1217, in run_command\n",
      "  \u001b[31m   \u001b[0m     super().run_command(command)\n",
      "  \u001b[31m   \u001b[0m   File \"/home/hayk/.pyenv/versions/3.10.6/envs/lewagon/lib/python3.10/site-packages/setuptools/_distutils/dist.py\", line 987, in run_command\n",
      "  \u001b[31m   \u001b[0m     cmd_obj.run()\n",
      "  \u001b[31m   \u001b[0m   File \"/home/hayk/.pyenv/versions/3.10.6/envs/lewagon/lib/python3.10/site-packages/wheel/bdist_wheel.py\", line 364, in run\n",
      "  \u001b[31m   \u001b[0m     self.run_command(\"build\")\n",
      "  \u001b[31m   \u001b[0m   File \"/home/hayk/.pyenv/versions/3.10.6/envs/lewagon/lib/python3.10/site-packages/setuptools/_distutils/cmd.py\", line 317, in run_command\n",
      "  \u001b[31m   \u001b[0m     self.distribution.run_command(command)\n",
      "  \u001b[31m   \u001b[0m   File \"/home/hayk/.pyenv/versions/3.10.6/envs/lewagon/lib/python3.10/site-packages/setuptools/dist.py\", line 1217, in run_command\n",
      "  \u001b[31m   \u001b[0m     super().run_command(command)\n",
      "  \u001b[31m   \u001b[0m   File \"/home/hayk/.pyenv/versions/3.10.6/envs/lewagon/lib/python3.10/site-packages/setuptools/_distutils/dist.py\", line 987, in run_command\n",
      "  \u001b[31m   \u001b[0m     cmd_obj.run()\n",
      "  \u001b[31m   \u001b[0m   File \"/home/hayk/.pyenv/versions/3.10.6/envs/lewagon/lib/python3.10/site-packages/setuptools/command/build.py\", line 24, in run\n",
      "  \u001b[31m   \u001b[0m     super().run()\n",
      "  \u001b[31m   \u001b[0m   File \"/home/hayk/.pyenv/versions/3.10.6/envs/lewagon/lib/python3.10/site-packages/setuptools/_distutils/command/build.py\", line 131, in run\n",
      "  \u001b[31m   \u001b[0m     self.run_command(cmd_name)\n",
      "  \u001b[31m   \u001b[0m   File \"/home/hayk/.pyenv/versions/3.10.6/envs/lewagon/lib/python3.10/site-packages/setuptools/_distutils/cmd.py\", line 317, in run_command\n",
      "  \u001b[31m   \u001b[0m     self.distribution.run_command(command)\n",
      "  \u001b[31m   \u001b[0m   File \"/home/hayk/.pyenv/versions/3.10.6/envs/lewagon/lib/python3.10/site-packages/setuptools/dist.py\", line 1217, in run_command\n",
      "  \u001b[31m   \u001b[0m     super().run_command(command)\n",
      "  \u001b[31m   \u001b[0m   File \"/home/hayk/.pyenv/versions/3.10.6/envs/lewagon/lib/python3.10/site-packages/setuptools/_distutils/dist.py\", line 987, in run_command\n",
      "  \u001b[31m   \u001b[0m     cmd_obj.run()\n",
      "  \u001b[31m   \u001b[0m   File \"/home/hayk/.pyenv/versions/3.10.6/envs/lewagon/lib/python3.10/site-packages/setuptools/_distutils/command/build_ext.py\", line 339, in run\n",
      "  \u001b[31m   \u001b[0m     self.build_extensions()\n",
      "  \u001b[31m   \u001b[0m   File \"/tmp/pip-install-m05bgw7v/pillow_e9306131ebb9498c91d1b53f45bd6878/setup.py\", line 687, in build_extensions\n",
      "  \u001b[31m   \u001b[0m     raise RequiredDependencyException(f)\n",
      "  \u001b[31m   \u001b[0m __main__.RequiredDependencyException: jpeg\n",
      "  \u001b[31m   \u001b[0m \n",
      "  \u001b[31m   \u001b[0m During handling of the above exception, another exception occurred:\n",
      "  \u001b[31m   \u001b[0m \n",
      "  \u001b[31m   \u001b[0m Traceback (most recent call last):\n",
      "  \u001b[31m   \u001b[0m   File \"<string>\", line 2, in <module>\n",
      "  \u001b[31m   \u001b[0m   File \"<pip-setuptools-caller>\", line 34, in <module>\n",
      "  \u001b[31m   \u001b[0m   File \"/tmp/pip-install-m05bgw7v/pillow_e9306131ebb9498c91d1b53f45bd6878/setup.py\", line 903, in <module>\n",
      "  \u001b[31m   \u001b[0m     raise RequiredDependencyException(msg)\n",
      "  \u001b[31m   \u001b[0m __main__.RequiredDependencyException:\n",
      "  \u001b[31m   \u001b[0m \n",
      "  \u001b[31m   \u001b[0m The headers or library files could not be found for jpeg,\n",
      "  \u001b[31m   \u001b[0m a required dependency when compiling Pillow from source.\n",
      "  \u001b[31m   \u001b[0m \n",
      "  \u001b[31m   \u001b[0m Please see the install instructions at:\n",
      "  \u001b[31m   \u001b[0m    https://pillow.readthedocs.io/en/latest/installation.html\n",
      "  \u001b[31m   \u001b[0m \n",
      "  \u001b[31m   \u001b[0m \n",
      "  \u001b[31m   \u001b[0m \u001b[31m[end of output]\u001b[0m\n",
      "  \n",
      "  \u001b[1;35mnote\u001b[0m: This error originates from a subprocess, and is likely not a problem with pip.\n",
      "\u001b[31m  ERROR: Failed building wheel for Pillow\u001b[0m\u001b[31m\n",
      "\u001b[0m\u001b[?25h  Running setup.py clean for Pillow\n"
     ]
    },
    {
     "name": "stdout",
     "output_type": "stream",
     "text": [
      "Failed to build Pillow\r\n",
      "\u001b[31mERROR: Could not build wheels for Pillow, which is required to install pyproject.toml-based projects\u001b[0m\u001b[31m\r\n",
      "\u001b[0m"
     ]
    }
   ],
   "source": [
    "!pip install Pillow==6.2.2"
   ]
  },
  {
   "cell_type": "markdown",
   "metadata": {},
   "source": [
    "We'll need the following libraries:"
   ]
  },
  {
   "cell_type": "code",
   "execution_count": 3,
   "metadata": {
    "jupyter": {
     "outputs_hidden": false
    }
   },
   "outputs": [],
   "source": [
    "# Import the libraries we need for this lab\n",
    "import torch \n",
    "import torch.nn as nn\n",
    "import torchvision.transforms as transforms\n",
    "import torchvision.datasets as dsets\n",
    "import matplotlib.pylab as plt\n",
    "import numpy as np"
   ]
  },
  {
   "cell_type": "markdown",
   "metadata": {},
   "source": [
    "Use the following function to visualize data: "
   ]
  },
  {
   "cell_type": "code",
   "execution_count": 12,
   "metadata": {
    "jupyter": {
     "outputs_hidden": false
    }
   },
   "outputs": [],
   "source": [
    "# Display data\n",
    "\n",
    "def show_data(data_sample,y,raw_image=True):\n",
    "    if raw_image:\n",
    "        plt.imshow(data_sample[0].numpy().reshape(16, 16), cmap='gray')\n",
    "    else:\n",
    "        plt.imshow(data_sample[0].numpy().reshape(16, 16))\n",
    "    plt.title('y = ' + str(y)) # removed .item()"
   ]
  },
  {
   "cell_type": "markdown",
   "metadata": {
    "jupyter": {
     "outputs_hidden": false
    }
   },
   "source": [
    " PCA transform class:"
   ]
  },
  {
   "cell_type": "code",
   "execution_count": 5,
   "metadata": {
    "jupyter": {
     "outputs_hidden": false
    }
   },
   "outputs": [],
   "source": [
    "class transform(object):\n",
    "    def __init__(self, eigenvalues,eigenvectors):\n",
    "        self.eigenvalues=eigenvalues\n",
    "        self.eigenvectors=eigenvectors\n",
    "        #calculate the diagonal matrix of eigenvalues\n",
    "        dim=eigenvalues[:,0].shape[0]\n",
    "        diag=torch.eye(dim)\n",
    "        dim=eigenvalues[:,0].shape[0]\n",
    "        self.diag=torch.eye(dim)\n",
    "        \n",
    "        for n,eigenvalue in enumerate(eigenvalues[:,0]):\n",
    "            self.diag[n,n]=(eigenvalue+0.01)**(0.5)\n",
    "            \n",
    "        \n",
    "        self.Qin=torch.inverse(diag)\n",
    "    def PCA(self,X):\n",
    "        X_hat=torch.mm(X[0].view(1,-1),self.eigenvectors)\n",
    "        return X_hat\n"
   ]
  },
  {
   "cell_type": "markdown",
   "metadata": {
    "jupyter": {
     "outputs_hidden": false
    }
   },
   "source": [
    "The image is a rectangular  tensor:"
   ]
  },
  {
   "cell_type": "code",
   "execution_count": 6,
   "metadata": {},
   "outputs": [],
   "source": [
    "IMAGE_SIZE = 16\n",
    "composed = transforms.Compose([transforms.Resize((IMAGE_SIZE, IMAGE_SIZE)), transforms.ToTensor()])"
   ]
  },
  {
   "cell_type": "markdown",
   "metadata": {},
   "source": [
    "<!--Empty Space for separating topics-->"
   ]
  },
  {
   "cell_type": "markdown",
   "metadata": {},
   "source": [
    "<h2 id=\"Makeup_Data\">2- Load Data</h2> "
   ]
  },
  {
   "cell_type": "markdown",
   "metadata": {},
   "source": [
    "Load the training dataset by setting the parameters <code>train</code> to <code>True</code> and convert it to a tensor by placing a transform object in the argument <code>transform</code>."
   ]
  },
  {
   "cell_type": "code",
   "execution_count": 7,
   "metadata": {
    "jupyter": {
     "outputs_hidden": false
    }
   },
   "outputs": [
    {
     "name": "stdout",
     "output_type": "stream",
     "text": [
      "Downloading http://yann.lecun.com/exdb/mnist/train-images-idx3-ubyte.gz\n",
      "Downloading http://yann.lecun.com/exdb/mnist/train-images-idx3-ubyte.gz to ./data/MNIST/raw/train-images-idx3-ubyte.gz\n"
     ]
    },
    {
     "name": "stderr",
     "output_type": "stream",
     "text": [
      "100%|██████████████████████████████████████████████████████████| 9912422/9912422 [00:01<00:00, 5850583.82it/s]\n"
     ]
    },
    {
     "name": "stdout",
     "output_type": "stream",
     "text": [
      "Extracting ./data/MNIST/raw/train-images-idx3-ubyte.gz to ./data/MNIST/raw\n",
      "\n",
      "Downloading http://yann.lecun.com/exdb/mnist/train-labels-idx1-ubyte.gz\n",
      "Downloading http://yann.lecun.com/exdb/mnist/train-labels-idx1-ubyte.gz to ./data/MNIST/raw/train-labels-idx1-ubyte.gz\n"
     ]
    },
    {
     "name": "stderr",
     "output_type": "stream",
     "text": [
      "100%|██████████████████████████████████████████████████████████████| 28881/28881 [00:00<00:00, 6468505.04it/s]"
     ]
    },
    {
     "name": "stdout",
     "output_type": "stream",
     "text": [
      "Extracting ./data/MNIST/raw/train-labels-idx1-ubyte.gz to ./data/MNIST/raw\n",
      "\n",
      "Downloading http://yann.lecun.com/exdb/mnist/t10k-images-idx3-ubyte.gz\n"
     ]
    },
    {
     "name": "stderr",
     "output_type": "stream",
     "text": [
      "\n"
     ]
    },
    {
     "name": "stdout",
     "output_type": "stream",
     "text": [
      "Downloading http://yann.lecun.com/exdb/mnist/t10k-images-idx3-ubyte.gz to ./data/MNIST/raw/t10k-images-idx3-ubyte.gz\n"
     ]
    },
    {
     "name": "stderr",
     "output_type": "stream",
     "text": [
      "100%|██████████████████████████████████████████████████████████| 1648877/1648877 [00:00<00:00, 5611280.02it/s]\n"
     ]
    },
    {
     "name": "stdout",
     "output_type": "stream",
     "text": [
      "Extracting ./data/MNIST/raw/t10k-images-idx3-ubyte.gz to ./data/MNIST/raw\n",
      "\n",
      "Downloading http://yann.lecun.com/exdb/mnist/t10k-labels-idx1-ubyte.gz\n",
      "Downloading http://yann.lecun.com/exdb/mnist/t10k-labels-idx1-ubyte.gz to ./data/MNIST/raw/t10k-labels-idx1-ubyte.gz\n"
     ]
    },
    {
     "name": "stderr",
     "output_type": "stream",
     "text": [
      "100%|███████████████████████████████████████████████████████████████| 4542/4542 [00:00<00:00, 28433625.03it/s]"
     ]
    },
    {
     "name": "stdout",
     "output_type": "stream",
     "text": [
      "Extracting ./data/MNIST/raw/t10k-labels-idx1-ubyte.gz to ./data/MNIST/raw\n",
      "\n"
     ]
    },
    {
     "name": "stderr",
     "output_type": "stream",
     "text": [
      "\n"
     ]
    }
   ],
   "source": [
    "# Create and print the training dataset\n",
    "train_dataset = dsets.MNIST(root='./data', train=True, download=True, transform=composed )\n",
    "validation_dataset = dsets.MNIST(root='./data', train=False, download=True, transform=composed)"
   ]
  },
  {
   "cell_type": "markdown",
   "metadata": {
    "jupyter": {
     "outputs_hidden": false
    }
   },
   "source": [
    "Images are rectangular tensors:"
   ]
  },
  {
   "cell_type": "markdown",
   "metadata": {
    "jupyter": {
     "outputs_hidden": false
    }
   },
   "source": [
    "<img src=\"https://s3-api.us-geo.objectstorage.softlayer.net/cf-courses-data/CognitiveClass/DL0110EN/notebook_images%20/chapter3/3.32_image_values.png\" width=\"550\" alt=\"MNIST elements\" />"
   ]
  },
  {
   "cell_type": "markdown",
   "metadata": {
    "jupyter": {
     "outputs_hidden": false
    }
   },
   "source": [
    "We can convert the tensor to a 1D tensor of vector and perform PCA or ZCA."
   ]
  },
  {
   "cell_type": "markdown",
   "metadata": {
    "jupyter": {
     "outputs_hidden": false
    }
   },
   "source": [
    "<img src=\"https://s3-api.us-geo.objectstorage.softlayer.net/cf-courses-data/CognitiveClass/DL0110EN/notebook_images%20/chapter3/3.3.2image_to_vector.gif\" width=\"550\" alt=\"Flattern Image\" />"
   ]
  },
  {
   "cell_type": "markdown",
   "metadata": {
    "jupyter": {
     "outputs_hidden": false
    }
   },
   "source": [
    "In this cell will calculate the Covariance Matrix and save it. We do it in a way that we don't need to store all the samples in memory. This takes some time so you can load the results in the next cell."
   ]
  },
  {
   "cell_type": "markdown",
   "metadata": {
    "jupyter": {
     "outputs_hidden": false
    }
   },
   "source": [
    "dim=train_dataset[0][0].shape[1]*train_dataset[0][0].shape[2]\n",
    "\n",
    "mean=torch.zeros((1,dim))\n",
    "C=torch.zeros((dim,dim))\n",
    "N_samples=len(train_dataset)\n",
    "for n in range(N_samples):\n",
    "    mean=mean+train_dataset[0][0].view(-1,1)\n",
    "    \n",
    "mean=mean/N_samples\n",
    "\n",
    "for n in range(N_samples):\n",
    "    x=train_dataset[0][0].view(1,-1)\n",
    "    x=x-mean\n",
    "    \n",
    "    C+=torch.mm(torch.t(x),x)\n",
    "    \n",
    "C=C/N_samples\n",
    "\n",
    "eigenvalues,eigenvectors=torch.eig(C,True)\n",
    "torch.save(eigenvalues, 'eigenvalues.pt') \n",
    "torch.save(eigenvectors, 'eigenvectors.pt')"
   ]
  },
  {
   "cell_type": "markdown",
   "metadata": {
    "jupyter": {
     "outputs_hidden": false
    }
   },
   "source": [
    "Load eigenvalues and eigenvectors."
   ]
  },
  {
   "cell_type": "code",
   "execution_count": 8,
   "metadata": {
    "jupyter": {
     "outputs_hidden": false
    }
   },
   "outputs": [],
   "source": [
    "eigenvalues=torch.load('eigenvalues.pt')\n",
    "eigenvectors=torch.load('eigenvectors.pt')"
   ]
  },
  {
   "cell_type": "code",
   "execution_count": 13,
   "metadata": {
    "jupyter": {
     "outputs_hidden": false
    }
   },
   "outputs": [
    {
     "data": {
      "image/png": "[encoded data removed]",
      "text/plain": [
       "<Figure size 640x480 with 1 Axes>"
      ]
     },
     "metadata": {},
     "output_type": "display_data"
    }
   ],
   "source": [
    "show_data(train_dataset[0][0],train_dataset[0][1])"
   ]
  },
  {
   "cell_type": "markdown",
   "metadata": {
    "jupyter": {
     "outputs_hidden": false
    }
   },
   "source": [
    "PCA transform object"
   ]
  },
  {
   "cell_type": "code",
   "execution_count": 14,
   "metadata": {
    "jupyter": {
     "outputs_hidden": false
    }
   },
   "outputs": [],
   "source": [
    "transform=transform(eigenvalues,eigenvectors)"
   ]
  },
  {
   "cell_type": "markdown",
   "metadata": {},
   "source": [
    "We can calculate the PCA transform of the image. We can see the transform for each digit looks similar.   Try changing the variable <code>select_number</code> to change the number."
   ]
  },
  {
   "cell_type": "code",
   "execution_count": 17,
   "metadata": {
    "jupyter": {
     "outputs_hidden": false
    }
   },
   "outputs": [
    {
     "data": {
      "image/png": "[encoded data removed]",
      "text/plain": [
       "<Figure size 640x480 with 1 Axes>"
      ]
     },
     "metadata": {},
     "output_type": "display_data"
    },
    {
     "data": {
      "image/png": "[encoded data removed]",
      "text/plain": [
       "<Figure size 640x480 with 1 Axes>"
      ]
     },
     "metadata": {},
     "output_type": "display_data"
    },
    {
     "data": {
      "image/png": "[encoded data removed]",
      "text/plain": [
       "<Figure size 640x480 with 1 Axes>"
      ]
     },
     "metadata": {},
     "output_type": "display_data"
    },
    {
     "data": {
      "image/png": "[encoded data removed]",
      "text/plain": [
       "<Figure size 640x480 with 1 Axes>"
      ]
     },
     "metadata": {},
     "output_type": "display_data"
    },
    {
     "data": {
      "image/png": "[encoded data removed]",
      "text/plain": [
       "<Figure size 640x480 with 1 Axes>"
      ]
     },
     "metadata": {},
     "output_type": "display_data"
    }
   ],
   "source": [
    "j=0\n",
    "#select_number from 0 -9\n",
    "select_number= 2\n",
    "for i,(X,y) in enumerate(train_dataset):\n",
    "    if y==select_number:# removed .item()\n",
    "        j+=1\n",
    "        Xhat=transform.PCA(X)\n",
    "        show_data(torch.log(Xhat+1),y=y,raw_image=False)\n",
    "        plt.show()\n",
    "    if j==5:\n",
    "        break\n"
   ]
  },
  {
   "cell_type": "markdown",
   "metadata": {},
   "source": [
    "<!--Empty Space for separating topics-->"
   ]
  },
  {
   "cell_type": "markdown",
   "metadata": {},
   "source": [
    "<h2>About the Authors:</h2> \n",
    "\n",
    "<a href=\"https://www.linkedin.com/in/joseph-s-50398b136/\">Joseph Santarcangelo</a> has a PhD in Electrical Engineering, his research focused on using machine learning, signal processing, and computer vision to determine how videos impact human cognition. Joseph has been working for IBM since he completed his PhD."
   ]
  },
  {
   "cell_type": "markdown",
   "metadata": {},
   "source": [
    "<b>References</b>"
   ]
  },
  {
   "cell_type": "markdown",
   "metadata": {},
   "source": [
    "<i>K. K. Pal and K. S. Sudeep, “Preprocessing for image classification by convolutional neural networks,” in 2016 IEEE International Conference on Recent Trends in Electronics, Information Communication Technology (RTEICT), 2016, pp. 1778–1781.</i>"
   ]
  },
  {
   "cell_type": "markdown",
   "metadata": {},
   "source": [
    "Copyright &copy; 2020 <a href=\"cognitiveclass.ai?utm_source=bducopyrightlink&utm_medium=dswb&utm_campaign=bdu\">cognitiveclass.ai</a>. This notebook and its source code are released under the terms of the <a href=\"https://bigdatauniversity.com/mit-license/\">MIT License</a>."
   ]
  }
 ],
 "metadata": {
  "kernelspec": {
   "display_name": "Python 3 (ipykernel)",
   "language": "python",
   "name": "python3"
  },
  "language_info": {
   "codemirror_mode": {
    "name": "ipython",
    "version": 3
   },
   "file_extension": ".py",
   "mimetype": "text/x-python",
   "name": "python",
   "nbconvert_exporter": "python",
   "pygments_lexer": "ipython3",
   "version": "3.10.6"
  },
  "toc": {
   "base_numbering": 1,
   "nav_menu": {},
   "number_sections": true,
   "sideBar": true,
   "skip_h1_title": false,
   "title_cell": "Table of Contents",
   "title_sidebar": "Contents",
   "toc_cell": false,
   "toc_position": {},
   "toc_section_display": true,
   "toc_window_display": false
  }
 },
 "nbformat": 4,
 "nbformat_minor": 4
}
