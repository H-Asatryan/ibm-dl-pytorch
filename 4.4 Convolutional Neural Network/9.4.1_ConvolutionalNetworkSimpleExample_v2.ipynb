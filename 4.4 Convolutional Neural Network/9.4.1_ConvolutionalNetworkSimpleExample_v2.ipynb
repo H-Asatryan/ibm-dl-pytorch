{
 "cells": [
  {
   "cell_type": "markdown",
   "metadata": {
    "id": "svdx15d03IWc"
   },
   "source": [
    "<img src = \"https://ibm.box.com/shared/static/ugcqz6ohbvff804xp84y4kqnvvk3bq1g.png\" width = 200, align = \"center\">\n",
    "\n",
    "\n",
    "<h1 align=center><font size = 5>Convolutional Neural Network (Simple Example)</font></h1>"
   ]
  },
  {
   "cell_type": "markdown",
   "metadata": {
    "id": "2KhOmYie3IWk"
   },
   "source": [
    "\n",
    "# Table of Contents\n",
    "In this lab, we will use a ***Convolutional Neural Network*** to classify horizontal and vertical lines\n",
    "\n",
    "<div class=\"alert alert-block alert-info\" style=\"margin-top: 20px\">\n",
    "<li><a href=\"#ref0\">Helper functions </a></li>\n",
    "\n",
    "<li><a href=\"#ref1\"> Prepare Data </a></li>\n",
    "<li><a href=\"#ref2\">Convolutional Neural Network </a></li>\n",
    "<li><a href=\"#ref3\">Define Softmax, Criterion function, Optimizer and Train the Model</a></li>\n",
    "<li><a href=\"#ref4\">Analyse Results</a></li>\n",
    "\n",
    "<br>\n",
    "<p></p>\n",
    "Estimated Time Needed: <strong>25 min</strong>\n",
    "</div>\n",
    "\n",
    "<hr>"
   ]
  },
  {
   "cell_type": "markdown",
   "metadata": {
    "id": "WIqjxNsc3IWm"
   },
   "source": [
    "<a id=\"ref0\"></a>\n",
    "<h2 align=center>Helper functions </h2>"
   ]
  },
  {
   "cell_type": "code",
   "execution_count": 1,
   "metadata": {
    "executionInfo": {
     "elapsed": 15132,
     "status": "ok",
     "timestamp": 1727967845147,
     "user": {
      "displayName": "Hayk Asatryan",
      "userId": "11449751140065047830"
     },
     "user_tz": -120
    },
    "id": "6vYnCYcG3IWo"
   },
   "outputs": [],
   "source": [
    "import torch\n",
    "import torch.nn as nn\n",
    "import torchvision.transforms as transforms\n",
    "import torchvision.datasets as dsets\n",
    "import matplotlib.pylab as plt\n",
    "import numpy as np\n",
    "import pandas as pd\n",
    "torch.manual_seed(4);"
   ]
  },
  {
   "cell_type": "markdown",
   "metadata": {
    "id": "h0ex3s-43IWr"
   },
   "source": [
    "Function to plot out the parameters of convolutional layers:"
   ]
  },
  {
   "cell_type": "code",
   "execution_count": 2,
   "metadata": {
    "executionInfo": {
     "elapsed": 22,
     "status": "ok",
     "timestamp": 1727967845147,
     "user": {
      "displayName": "Hayk Asatryan",
      "userId": "11449751140065047830"
     },
     "user_tz": -120
    },
    "id": "hAaw9vWR3IWr"
   },
   "outputs": [],
   "source": [
    "def plot_channels(W):\n",
    "    #number of output channels\n",
    "    n_out=W.shape[0]\n",
    "    #number of input channels\n",
    "    n_in=W.shape[1]\n",
    "    w_min=W.min().item()\n",
    "    w_max=W.max().item()\n",
    "    fig, axes = plt.subplots(n_out,n_in)\n",
    "    fig.subplots_adjust(hspace = 0.1)\n",
    "    out_index=0\n",
    "    in_index=0\n",
    "    #plot outputs as rows inputs as columns\n",
    "    for ax in axes.flat:\n",
    "\n",
    "        if in_index>n_in-1:\n",
    "            out_index=out_index+1\n",
    "            in_index=0\n",
    "\n",
    "        ax.imshow(W[out_index,in_index,:,:], vmin=w_min, vmax=w_max, cmap='seismic')\n",
    "        ax.set_yticklabels([])\n",
    "        ax.set_xticklabels([])\n",
    "        in_index=in_index+1\n",
    "\n",
    "    plt.show()"
   ]
  },
  {
   "cell_type": "markdown",
   "metadata": {
    "id": "Lfv8B_GD3IWs"
   },
   "source": [
    "The function <code>show_data</code> to plot out data sample:"
   ]
  },
  {
   "cell_type": "code",
   "execution_count": 3,
   "metadata": {
    "executionInfo": {
     "elapsed": 21,
     "status": "ok",
     "timestamp": 1727967845148,
     "user": {
      "displayName": "Hayk Asatryan",
      "userId": "11449751140065047830"
     },
     "user_tz": -120
    },
    "id": "M9cZWbcO3IWs"
   },
   "outputs": [],
   "source": [
    "def show_data(dataset,sample):\n",
    "\n",
    "    plt.imshow(dataset.x[sample,0,:,:].numpy(),cmap='gray')\n",
    "    plt.title('y='+str(dataset.y[sample].item()))\n",
    "    plt.show()"
   ]
  },
  {
   "cell_type": "markdown",
   "metadata": {
    "id": "uS0Ww2Or3IWu"
   },
   "source": [
    "Create some toy data:"
   ]
  },
  {
   "cell_type": "code",
   "execution_count": 4,
   "metadata": {
    "executionInfo": {
     "elapsed": 19,
     "status": "ok",
     "timestamp": 1727967845149,
     "user": {
      "displayName": "Hayk Asatryan",
      "userId": "11449751140065047830"
     },
     "user_tz": -120
    },
    "id": "Nc8kXDkb3IWw"
   },
   "outputs": [],
   "source": [
    "from torch.utils.data import Dataset, DataLoader\n",
    "class Data(Dataset):\n",
    "    def __init__(self,N_images=100,offset=0,p=0.9, train=False):\n",
    "        \"\"\"\n",
    "        p:portability that pixel is wight\n",
    "        N_images:number of images\n",
    "        offset:set a random vertical and horizontal offset images by a sample should be less than 3\n",
    "        \"\"\"\n",
    "        if train==True:\n",
    "            np.random.seed(1)\n",
    "\n",
    "        #make images multiple of 3\n",
    "        N_images=2*(N_images//2)\n",
    "        images=np.zeros((N_images,1,11,11))\n",
    "        start1=3\n",
    "        start2=1\n",
    "        self.y=torch.zeros(N_images).type(torch.long)\n",
    "\n",
    "        for n in range(N_images):\n",
    "            if offset>0:\n",
    "\n",
    "                low=int(np.random.randint(low=start1, high=start1+offset, size=1))\n",
    "                high=int(np.random.randint(low=start2, high=start2+offset, size=1))\n",
    "            else:\n",
    "                low=4\n",
    "                high=1\n",
    "\n",
    "            if n<=N_images//2:\n",
    "                self.y[n]=0\n",
    "                images[n,0,high:high+9,low:low+3]= np.random.binomial(1, p, (9,3))\n",
    "            elif  n>N_images//2:\n",
    "                self.y[n]=1\n",
    "                images[n,0,low:low+3,high:high+9] = np.random.binomial(1, p, (3,9))\n",
    "\n",
    "\n",
    "\n",
    "        self.x=torch.from_numpy(images).type(torch.FloatTensor)\n",
    "        self.len=self.x.shape[0]\n",
    "        del(images)\n",
    "        np.random.seed(0)\n",
    "    def __getitem__(self,index):\n",
    "        return self.x[index],self.y[index]\n",
    "    def __len__(self):\n",
    "        return self.len"
   ]
  },
  {
   "cell_type": "markdown",
   "metadata": {
    "id": "v6U4Fh0v3IWx"
   },
   "source": [
    "<code>plot_activation</code>: plot out the activations of the Convolutional layers  "
   ]
  },
  {
   "cell_type": "code",
   "execution_count": 5,
   "metadata": {
    "executionInfo": {
     "elapsed": 18,
     "status": "ok",
     "timestamp": 1727967845149,
     "user": {
      "displayName": "Hayk Asatryan",
      "userId": "11449751140065047830"
     },
     "user_tz": -120
    },
    "id": "61LIHFHz3IWy"
   },
   "outputs": [],
   "source": [
    "def plot_activations(A,number_rows= 1,name=\"\"):\n",
    "    A=A[0,:,:,:].detach().numpy()\n",
    "    n_activations=A.shape[0]\n",
    "\n",
    "\n",
    "    print(n_activations)\n",
    "    A_min=A.min().item()\n",
    "    A_max=A.max().item()\n",
    "\n",
    "    if n_activations==1:\n",
    "\n",
    "        # Plot the image.\n",
    "        plt.imshow(A[0,:], vmin=A_min, vmax=A_max, cmap='seismic')\n",
    "\n",
    "    else:\n",
    "        fig, axes = plt.subplots(number_rows, n_activations//number_rows)\n",
    "        fig.subplots_adjust(hspace = 0.4)\n",
    "        for i,ax in enumerate(axes.flat):\n",
    "            if i< n_activations:\n",
    "                # Set the label for the sub-plot.\n",
    "                ax.set_xlabel( \"activation:{0}\".format(i+1))\n",
    "\n",
    "                # Plot the image.\n",
    "                ax.imshow(A[i,:], vmin=A_min, vmax=A_max, cmap='seismic')\n",
    "                ax.set_xticks([])\n",
    "                ax.set_yticks([])\n",
    "    plt.show()"
   ]
  },
  {
   "cell_type": "markdown",
   "metadata": {
    "id": "hQoPgnZb3IWz"
   },
   "source": [
    "\n",
    "Utility function for computing output of convolutions\n",
    "takes a tuple of (h,w) and returns a tuple of (h,w):"
   ]
  },
  {
   "cell_type": "code",
   "execution_count": 6,
   "metadata": {
    "executionInfo": {
     "elapsed": 15,
     "status": "ok",
     "timestamp": 1727967845149,
     "user": {
      "displayName": "Hayk Asatryan",
      "userId": "11449751140065047830"
     },
     "user_tz": -120
    },
    "id": "PhSWZcE-3IWz"
   },
   "outputs": [],
   "source": [
    "def conv_output_shape(h_w, kernel_size=1, stride=1, pad=0, dilation=1):\n",
    "    #by Duane Nielsen\n",
    "    from math import floor\n",
    "    if type(kernel_size) is not tuple:\n",
    "        kernel_size = (kernel_size, kernel_size)\n",
    "    h = floor( ((h_w[0] + (2 * pad) - ( dilation * (kernel_size[0] - 1) ) - 1 )/ stride) + 1)\n",
    "    w = floor( ((h_w[1] + (2 * pad) - ( dilation * (kernel_size[1] - 1) ) - 1 )/ stride) + 1)\n",
    "    return h, w"
   ]
  },
  {
   "cell_type": "markdown",
   "metadata": {
    "id": "4LfiLroP3IW0"
   },
   "source": [
    "<a id=\"ref1\"></a>\n",
    "<h2 align=center>Prepare Data </h2>"
   ]
  },
  {
   "cell_type": "markdown",
   "metadata": {
    "id": "hSR4SrZm3IW0"
   },
   "source": [
    "Load the training dataset with 10000 samples"
   ]
  },
  {
   "cell_type": "code",
   "execution_count": 7,
   "metadata": {
    "executionInfo": {
     "elapsed": 513,
     "status": "ok",
     "timestamp": 1727967845649,
     "user": {
      "displayName": "Hayk Asatryan",
      "userId": "11449751140065047830"
     },
     "user_tz": -120
    },
    "id": "jka4na5G3IW1"
   },
   "outputs": [],
   "source": [
    "N_images=10000\n",
    "train_dataset=Data(N_images=N_images)"
   ]
  },
  {
   "cell_type": "markdown",
   "metadata": {
    "id": "ZQi9syku3IW1"
   },
   "source": [
    "Load the testing dataset"
   ]
  },
  {
   "cell_type": "code",
   "execution_count": 8,
   "metadata": {
    "colab": {
     "base_uri": "https://localhost:8080/"
    },
    "executionInfo": {
     "elapsed": 22,
     "status": "ok",
     "timestamp": 1727967845650,
     "user": {
      "displayName": "Hayk Asatryan",
      "userId": "11449751140065047830"
     },
     "user_tz": -120
    },
    "id": "t-HwUOzC3IW1",
    "outputId": "8a3a24b0-b809-4962-f801-cb515a031b15"
   },
   "outputs": [
    {
     "data": {
      "text/plain": [
       "<__main__.Data at 0x7adc1e986860>"
      ]
     },
     "execution_count": 8,
     "metadata": {},
     "output_type": "execute_result"
    }
   ],
   "source": [
    "validation_dataset=Data(N_images=1000,train=False)\n",
    "validation_dataset"
   ]
  },
  {
   "cell_type": "markdown",
   "metadata": {
    "id": "aAcNaxoT3IW2"
   },
   "source": [
    "we can see the data type is long"
   ]
  },
  {
   "cell_type": "markdown",
   "metadata": {
    "id": "8UE_eeO23IW2"
   },
   "source": [
    "### Data Visualization"
   ]
  },
  {
   "cell_type": "markdown",
   "metadata": {
    "id": "ZJYPyv3C3IW3"
   },
   "source": [
    "Each element in the rectangular  tensor corresponds to a number representing a pixel intensity  as demonstrated by  the following image."
   ]
  },
  {
   "cell_type": "markdown",
   "metadata": {
    "id": "1BJRbnh23IW3"
   },
   "source": [
    "We can print out the third label"
   ]
  },
  {
   "cell_type": "code",
   "execution_count": 9,
   "metadata": {
    "colab": {
     "base_uri": "https://localhost:8080/",
     "height": 472
    },
    "executionInfo": {
     "elapsed": 1085,
     "status": "ok",
     "timestamp": 1727967846723,
     "user": {
      "displayName": "Hayk Asatryan",
      "userId": "11449751140065047830"
     },
     "user_tz": -120
    },
    "id": "i0aPzcBi3IW3",
    "outputId": "c481d40d-d368-40ec-a9e6-802cbce0a3fc"
   },
   "outputs": [
    {
     "data": {
      "image/png": "[encoded data removed]",
      "text/plain": [
       "<Figure size 640x480 with 1 Axes>"
      ]
     },
     "metadata": {},
     "output_type": "display_data"
    }
   ],
   "source": [
    "show_data(train_dataset,0)"
   ]
  },
  {
   "cell_type": "code",
   "execution_count": 10,
   "metadata": {
    "colab": {
     "base_uri": "https://localhost:8080/",
     "height": 472
    },
    "executionInfo": {
     "elapsed": 472,
     "status": "ok",
     "timestamp": 1727967847188,
     "user": {
      "displayName": "Hayk Asatryan",
      "userId": "11449751140065047830"
     },
     "user_tz": -120
    },
    "id": "YgIr-3yU3IW4",
    "outputId": "8e90e84b-d736-424f-889f-e7c180bec3e0"
   },
   "outputs": [
    {
     "data": {
      "image/png": "[encoded data removed]",
      "text/plain": [
       "<Figure size 640x480 with 1 Axes>"
      ]
     },
     "metadata": {},
     "output_type": "display_data"
    }
   ],
   "source": [
    "show_data(train_dataset,N_images//2+2)"
   ]
  },
  {
   "cell_type": "markdown",
   "metadata": {
    "id": "2CVyDOck3IW5"
   },
   "source": [
    "<a id=\"ref3\"></a>\n",
    "### Build a Convolutional Neural Network Class"
   ]
  },
  {
   "cell_type": "markdown",
   "metadata": {
    "id": "rT5EFDIy3IW5"
   },
   "source": [
    "The input image is 11 x11, the following will change the size of the activations:\n",
    "<ul>\n",
    "<il>convolutional layer</il>\n",
    "</ul>\n",
    "<ul>\n",
    "<il>max pooling layer</il>\n",
    "</ul>\n",
    "<ul>\n",
    "<il>convolutional layer </il>\n",
    "</ul>\n",
    "<ul>\n",
    "<il>max pooling layer </il>\n",
    "</ul>\n",
    "\n",
    "with the following parameters <code>kernel_size</code>, <code>stride</code> and <code> pad</code>.\n",
    "We use the following  lines of code to change the image before we get to the fully connected layer:"
   ]
  },
  {
   "cell_type": "code",
   "execution_count": 11,
   "metadata": {
    "colab": {
     "base_uri": "https://localhost:8080/"
    },
    "executionInfo": {
     "elapsed": 25,
     "status": "ok",
     "timestamp": 1727967847189,
     "user": {
      "displayName": "Hayk Asatryan",
      "userId": "11449751140065047830"
     },
     "user_tz": -120
    },
    "id": "PBXxU5963IW6",
    "outputId": "94c8d124-9e48-40a4-8819-634c92b8c841"
   },
   "outputs": [
    {
     "name": "stdout",
     "output_type": "stream",
     "text": [
      "(10, 10)\n",
      "(9, 9)\n",
      "(8, 8)\n",
      "(7, 7)\n"
     ]
    }
   ],
   "source": [
    "out=conv_output_shape((11,11), kernel_size=2, stride=1, pad=0, dilation=1)\n",
    "print(out)\n",
    "out1=conv_output_shape(out, kernel_size=2, stride=1, pad=0, dilation=1)\n",
    "print(out1)\n",
    "out2=conv_output_shape(out1, kernel_size=2, stride=1, pad=0, dilation=1)\n",
    "print(out2)\n",
    "\n",
    "out3=conv_output_shape(out2, kernel_size=2, stride=1, pad=0, dilation=1)\n",
    "print(out3)"
   ]
  },
  {
   "cell_type": "markdown",
   "metadata": {
    "id": "mT-djvnv3IW6"
   },
   "source": [
    "Build a Convolutional Network class with two Convolutional layers and one fully connected layer. Pre-determine the size of the final output matrix. The parameters in the constructor are the number of output channels for the first and second layer."
   ]
  },
  {
   "cell_type": "code",
   "execution_count": 12,
   "metadata": {
    "executionInfo": {
     "elapsed": 454,
     "status": "ok",
     "timestamp": 1727967847631,
     "user": {
      "displayName": "Hayk Asatryan",
      "userId": "11449751140065047830"
     },
     "user_tz": -120
    },
    "id": "lNd5f99-3IW7"
   },
   "outputs": [],
   "source": [
    "class CNN(nn.Module):\n",
    "    def __init__(self,out_1=2,out_2=1):\n",
    "\n",
    "        super(CNN,self).__init__()\n",
    "        #first convolutional layer\n",
    "        self.cnn1=nn.Conv2d(in_channels=1,out_channels=out_1,kernel_size=2,padding=0)\n",
    "        #max pooling\n",
    "        self.maxpool1=nn.MaxPool2d(kernel_size=2 ,stride=1)\n",
    "\n",
    "        #second convolutional layer\n",
    "        self.cnn2=nn.Conv2d(in_channels=out_1,out_channels=out_2,kernel_size=2,stride=1,padding=0)\n",
    "        #max pooling\n",
    "        self.maxpool2=nn.MaxPool2d(kernel_size=2 ,stride=1)\n",
    "\n",
    "        #fully connected layer\n",
    "        self.fc1=nn.Linear(out_2*7*7,2)\n",
    "\n",
    "    def forward(self,x):\n",
    "        #first convolutional layer\n",
    "        x=self.cnn1(x)\n",
    "        #activation function\n",
    "        x=torch.relu(x)\n",
    "        #max pooling\n",
    "        x=self.maxpool1(x)\n",
    "        #second convolutional layer\n",
    "        x=self.cnn2(x)\n",
    "        #activation function\n",
    "        x=torch.relu(x)\n",
    "        #max pooling\n",
    "        x=self.maxpool2(x)\n",
    "        #flatten output\n",
    "        x=x.view(x.size(0),-1)\n",
    "        #fully connected layer\n",
    "        x=self.fc1(x)\n",
    "        return x\n",
    "\n",
    "    def activations(self,x):\n",
    "        #outputs activations; this is not necessary just for fun\n",
    "        z1=self.cnn1(x)\n",
    "        a1=torch.relu(z1)\n",
    "        out=self.maxpool1(a1)\n",
    "\n",
    "        z2=self.cnn2(out)\n",
    "        a2=torch.relu(z2)\n",
    "        out=self.maxpool2(a2)\n",
    "        out=out.view(out.size(0),-1)\n",
    "        return z1,a1,z2,a2,out"
   ]
  },
  {
   "cell_type": "markdown",
   "metadata": {
    "id": "TDfUySJe3IW7"
   },
   "source": [
    "<a id=\"ref3\"></a>\n",
    "<h2> Define the Convolutional Neural Network Classifier, Criterion function, Optimizer and Train the  Model  </h2>"
   ]
  },
  {
   "cell_type": "markdown",
   "metadata": {
    "id": "YQPd17pa3IW7"
   },
   "source": [
    "There are 2 output channels for the first layer and 1 output channel for the second layer:"
   ]
  },
  {
   "cell_type": "code",
   "execution_count": 13,
   "metadata": {
    "executionInfo": {
     "elapsed": 11,
     "status": "ok",
     "timestamp": 1727967847631,
     "user": {
      "displayName": "Hayk Asatryan",
      "userId": "11449751140065047830"
     },
     "user_tz": -120
    },
    "id": "-nCpFF3-3IW8"
   },
   "outputs": [],
   "source": [
    "model=CNN(2,1)"
   ]
  },
  {
   "cell_type": "markdown",
   "metadata": {
    "id": "qK83inWM3IW8"
   },
   "source": [
    "We can see the model parameters with the object"
   ]
  },
  {
   "cell_type": "code",
   "execution_count": 14,
   "metadata": {
    "colab": {
     "base_uri": "https://localhost:8080/"
    },
    "executionInfo": {
     "elapsed": 10,
     "status": "ok",
     "timestamp": 1727967847632,
     "user": {
      "displayName": "Hayk Asatryan",
      "userId": "11449751140065047830"
     },
     "user_tz": -120
    },
    "id": "Y_6XAh8Z3IW8",
    "outputId": "5545f179-fbd4-4547-ca1c-27d831192b94"
   },
   "outputs": [
    {
     "data": {
      "text/plain": [
       "CNN(\n",
       "  (cnn1): Conv2d(1, 2, kernel_size=(2, 2), stride=(1, 1))\n",
       "  (maxpool1): MaxPool2d(kernel_size=2, stride=1, padding=0, dilation=1, ceil_mode=False)\n",
       "  (cnn2): Conv2d(2, 1, kernel_size=(2, 2), stride=(1, 1))\n",
       "  (maxpool2): MaxPool2d(kernel_size=2, stride=1, padding=0, dilation=1, ceil_mode=False)\n",
       "  (fc1): Linear(in_features=49, out_features=2, bias=True)\n",
       ")"
      ]
     },
     "execution_count": 14,
     "metadata": {},
     "output_type": "execute_result"
    }
   ],
   "source": [
    "model"
   ]
  },
  {
   "cell_type": "markdown",
   "metadata": {
    "id": "D2g_gIfS3IW9"
   },
   "source": [
    "Plot the model parameters for the kernels before training the kernels. The kernels are initialized randomly."
   ]
  },
  {
   "cell_type": "code",
   "execution_count": 15,
   "metadata": {
    "colab": {
     "base_uri": "https://localhost:8080/",
     "height": 431
    },
    "executionInfo": {
     "elapsed": 463,
     "status": "ok",
     "timestamp": 1727967848088,
     "user": {
      "displayName": "Hayk Asatryan",
      "userId": "11449751140065047830"
     },
     "user_tz": -120
    },
    "id": "Q0puqgIU3IW9",
    "outputId": "d28d80b2-d889-4a6d-edc8-07a6a30d3cbb"
   },
   "outputs": [
    {
     "data": {
      "image/png": "[encoded data removed]",
      "text/plain": [
       "<Figure size 640x480 with 2 Axes>"
      ]
     },
     "metadata": {},
     "output_type": "display_data"
    }
   ],
   "source": [
    "\n",
    "plot_channels(model.state_dict()['cnn1.weight'])\n"
   ]
  },
  {
   "cell_type": "markdown",
   "metadata": {
    "id": "bmcYYxol3IW9"
   },
   "source": [
    "Loss function"
   ]
  },
  {
   "cell_type": "code",
   "execution_count": 16,
   "metadata": {
    "colab": {
     "base_uri": "https://localhost:8080/",
     "height": 287
    },
    "executionInfo": {
     "elapsed": 1129,
     "status": "ok",
     "timestamp": 1727967849198,
     "user": {
      "displayName": "Hayk Asatryan",
      "userId": "11449751140065047830"
     },
     "user_tz": -120
    },
    "id": "-WcPQ04w3IW9",
    "outputId": "c0309d23-02e2-4f1e-ff37-a12a88682401"
   },
   "outputs": [
    {
     "data": {
      "image/png": "[encoded data removed]",
      "text/plain": [
       "<Figure size 640x480 with 2 Axes>"
      ]
     },
     "metadata": {},
     "output_type": "display_data"
    }
   ],
   "source": [
    "plot_channels(model.state_dict()['cnn2.weight'])"
   ]
  },
  {
   "cell_type": "markdown",
   "metadata": {
    "id": "U3rlysyE3IW_"
   },
   "source": [
    "Define the loss function"
   ]
  },
  {
   "cell_type": "code",
   "execution_count": 17,
   "metadata": {
    "executionInfo": {
     "elapsed": 15,
     "status": "ok",
     "timestamp": 1727967849198,
     "user": {
      "displayName": "Hayk Asatryan",
      "userId": "11449751140065047830"
     },
     "user_tz": -120
    },
    "id": "BaHGmqYz3IXA"
   },
   "outputs": [],
   "source": [
    "criterion=nn.CrossEntropyLoss()"
   ]
  },
  {
   "cell_type": "markdown",
   "metadata": {
    "id": "tP3Ftm8D3IXB"
   },
   "source": [
    "Define the optimizer class"
   ]
  },
  {
   "cell_type": "code",
   "execution_count": 18,
   "metadata": {
    "executionInfo": {
     "elapsed": 14,
     "status": "ok",
     "timestamp": 1727967849198,
     "user": {
      "displayName": "Hayk Asatryan",
      "userId": "11449751140065047830"
     },
     "user_tz": -120
    },
    "id": "UPzsisTa3IXC"
   },
   "outputs": [],
   "source": [
    "learning_rate=0.001\n",
    "optimizer = torch.optim.Adam(model.parameters(), lr=learning_rate)"
   ]
  },
  {
   "cell_type": "code",
   "execution_count": 19,
   "metadata": {
    "executionInfo": {
     "elapsed": 14,
     "status": "ok",
     "timestamp": 1727967849200,
     "user": {
      "displayName": "Hayk Asatryan",
      "userId": "11449751140065047830"
     },
     "user_tz": -120
    },
    "id": "E8v1lDXb3IXD"
   },
   "outputs": [],
   "source": [
    "train_loader=torch.utils.data.DataLoader(dataset=train_dataset,batch_size=10)\n",
    "validation_loader=torch.utils.data.DataLoader(dataset=validation_dataset,batch_size=20)"
   ]
  },
  {
   "cell_type": "markdown",
   "metadata": {
    "id": "jZQ1tWJy3IXE"
   },
   "source": [
    "Train the model and determine validation accuracy technically test accuracy **(This may take a long time)**"
   ]
  },
  {
   "cell_type": "code",
   "execution_count": 20,
   "metadata": {
    "executionInfo": {
     "elapsed": 41739,
     "status": "ok",
     "timestamp": 1727967890927,
     "user": {
      "displayName": "Hayk Asatryan",
      "userId": "11449751140065047830"
     },
     "user_tz": -120
    },
    "id": "1v0NohV33IXE"
   },
   "outputs": [],
   "source": [
    "n_epochs=10\n",
    "cost_list=[]\n",
    "accuracy_list=[]\n",
    "N_test=len(validation_dataset)\n",
    "cost=0\n",
    "#n_epochs\n",
    "for epoch in range(n_epochs):\n",
    "    cost=0\n",
    "    for x, y in train_loader:\n",
    "\n",
    "\n",
    "        #clear gradient\n",
    "        optimizer.zero_grad()\n",
    "        #make a prediction\n",
    "        z=model(x)\n",
    "        # calculate loss\n",
    "        loss=criterion(z,y)\n",
    "        # calculate gradients of parameters\n",
    "        loss.backward()\n",
    "        # update parameters\n",
    "        optimizer.step()\n",
    "        cost+=loss.item()\n",
    "    cost_list.append(cost)\n",
    "\n",
    "\n",
    "    correct=0\n",
    "    #perform a prediction on the validation  data\n",
    "    for x_test, y_test in validation_loader:\n",
    "\n",
    "        z=model(x_test)\n",
    "        _,yhat=torch.max(z.data,1)\n",
    "\n",
    "        correct+=(yhat==y_test).sum().item()\n",
    "\n",
    "\n",
    "    accuracy=correct/N_test\n",
    "\n",
    "    accuracy_list.append(accuracy)\n"
   ]
  },
  {
   "cell_type": "markdown",
   "metadata": {
    "id": "2a9Y6utO3IXF"
   },
   "source": [
    "#### <a id=\"ref3\"></a>\n",
    "<h2 align=center>Analyse Results</h2>"
   ]
  },
  {
   "cell_type": "markdown",
   "metadata": {
    "id": "jW1Rtxb63IXG"
   },
   "source": [
    "Plot the loss and accuracy on the validation data:"
   ]
  },
  {
   "cell_type": "code",
   "execution_count": 21,
   "metadata": {
    "colab": {
     "base_uri": "https://localhost:8080/",
     "height": 507
    },
    "executionInfo": {
     "elapsed": 601,
     "status": "ok",
     "timestamp": 1727967891505,
     "user": {
      "displayName": "Hayk Asatryan",
      "userId": "11449751140065047830"
     },
     "user_tz": -120
    },
    "id": "k8_BKeXS3IXG",
    "outputId": "9b5de564-9ee0-4d40-e8d8-e78cf1d7da19"
   },
   "outputs": [
    {
     "data": {
      "image/png": "[encoded data removed]",
      "text/plain": [
       "<Figure size 640x480 with 2 Axes>"
      ]
     },
     "metadata": {},
     "output_type": "display_data"
    }
   ],
   "source": [
    "fig, ax1 = plt.subplots()\n",
    "color = 'tab:red'\n",
    "ax1.plot(cost_list,color=color)\n",
    "ax1.set_xlabel('epoch',color=color)\n",
    "ax1.set_ylabel('total loss',color=color)\n",
    "ax1.tick_params(axis='y', color=color)\n",
    "\n",
    "ax2 = ax1.twinx()\n",
    "color = 'tab:blue'\n",
    "ax2.set_ylabel('accuracy', color=color)\n",
    "ax2.plot( accuracy_list, color=color)\n",
    "ax2.tick_params(axis='y', labelcolor=color)\n",
    "fig.tight_layout()"
   ]
  },
  {
   "cell_type": "markdown",
   "metadata": {
    "id": "V7mybdC_3IXH"
   },
   "source": [
    "View the results of the parameters for the Convolutional layers"
   ]
  },
  {
   "cell_type": "code",
   "execution_count": 22,
   "metadata": {
    "colab": {
     "base_uri": "https://localhost:8080/"
    },
    "executionInfo": {
     "elapsed": 47,
     "status": "ok",
     "timestamp": 1727967891506,
     "user": {
      "displayName": "Hayk Asatryan",
      "userId": "11449751140065047830"
     },
     "user_tz": -120
    },
    "id": "K-82fy6i3IXI",
    "outputId": "a1f52819-dd52-4e37-cbae-8be8f1c8bbe3"
   },
   "outputs": [
    {
     "data": {
      "text/plain": [
       "tensor([[[[ 0.3532,  0.4709],\n",
       "          [-0.1309, -0.1834]]],\n",
       "\n",
       "\n",
       "        [[[-0.4210, -0.2706],\n",
       "          [ 0.9390,  0.8727]]]])"
      ]
     },
     "execution_count": 22,
     "metadata": {},
     "output_type": "execute_result"
    }
   ],
   "source": [
    "model.state_dict()['cnn1.weight']"
   ]
  },
  {
   "cell_type": "code",
   "execution_count": 23,
   "metadata": {
    "colab": {
     "base_uri": "https://localhost:8080/",
     "height": 431
    },
    "executionInfo": {
     "elapsed": 39,
     "status": "ok",
     "timestamp": 1727967891507,
     "user": {
      "displayName": "Hayk Asatryan",
      "userId": "11449751140065047830"
     },
     "user_tz": -120
    },
    "id": "WaxEuYKv3IXI",
    "outputId": "cef59a77-289f-4a2d-dd44-43505a680a9a"
   },
   "outputs": [
    {
     "data": {
      "image/png": "[encoded data removed]",
      "text/plain": [
       "<Figure size 640x480 with 2 Axes>"
      ]
     },
     "metadata": {},
     "output_type": "display_data"
    }
   ],
   "source": [
    "plot_channels(model.state_dict()['cnn1.weight'])"
   ]
  },
  {
   "cell_type": "code",
   "execution_count": 24,
   "metadata": {
    "colab": {
     "base_uri": "https://localhost:8080/"
    },
    "executionInfo": {
     "elapsed": 36,
     "status": "ok",
     "timestamp": 1727967891508,
     "user": {
      "displayName": "Hayk Asatryan",
      "userId": "11449751140065047830"
     },
     "user_tz": -120
    },
    "id": "R2nPHMKR3IXJ",
    "outputId": "117cf94a-2941-4e31-d067-27a54fc96e0e"
   },
   "outputs": [
    {
     "data": {
      "text/plain": [
       "tensor([[[[ 0.3532,  0.4709],\n",
       "          [-0.1309, -0.1834]]],\n",
       "\n",
       "\n",
       "        [[[-0.4210, -0.2706],\n",
       "          [ 0.9390,  0.8727]]]])"
      ]
     },
     "execution_count": 24,
     "metadata": {},
     "output_type": "execute_result"
    }
   ],
   "source": [
    "model.state_dict()['cnn1.weight']"
   ]
  },
  {
   "cell_type": "code",
   "execution_count": 25,
   "metadata": {
    "colab": {
     "base_uri": "https://localhost:8080/",
     "height": 287
    },
    "executionInfo": {
     "elapsed": 542,
     "status": "ok",
     "timestamp": 1727967892020,
     "user": {
      "displayName": "Hayk Asatryan",
      "userId": "11449751140065047830"
     },
     "user_tz": -120
    },
    "id": "QumG85iK3IXK",
    "outputId": "d880ffeb-ca9a-45ed-faa4-5ba11a79bac3"
   },
   "outputs": [
    {
     "data": {
      "image/png": "[encoded data removed]",
      "text/plain": [
       "<Figure size 640x480 with 2 Axes>"
      ]
     },
     "metadata": {},
     "output_type": "display_data"
    }
   ],
   "source": [
    "plot_channels(model.state_dict()['cnn2.weight'])"
   ]
  },
  {
   "cell_type": "markdown",
   "metadata": {
    "id": "4ZIluGuD3IXM"
   },
   "source": [
    "Consider the following sample"
   ]
  },
  {
   "cell_type": "code",
   "execution_count": 26,
   "metadata": {
    "colab": {
     "base_uri": "https://localhost:8080/",
     "height": 472
    },
    "executionInfo": {
     "elapsed": 21,
     "status": "ok",
     "timestamp": 1727967892021,
     "user": {
      "displayName": "Hayk Asatryan",
      "userId": "11449751140065047830"
     },
     "user_tz": -120
    },
    "id": "iZdt1vCI3IXM",
    "outputId": "693d5791-7d30-4a38-a0f8-eee9d43cbdb7"
   },
   "outputs": [
    {
     "data": {
      "image/png": "[encoded data removed]",
      "text/plain": [
       "<Figure size 640x480 with 1 Axes>"
      ]
     },
     "metadata": {},
     "output_type": "display_data"
    }
   ],
   "source": [
    "show_data(train_dataset,N_images//2+2)"
   ]
  },
  {
   "cell_type": "markdown",
   "metadata": {
    "id": "zl5eDz8j3IXN"
   },
   "source": [
    "Determine the activations"
   ]
  },
  {
   "cell_type": "code",
   "execution_count": 27,
   "metadata": {
    "executionInfo": {
     "elapsed": 19,
     "status": "ok",
     "timestamp": 1727967892022,
     "user": {
      "displayName": "Hayk Asatryan",
      "userId": "11449751140065047830"
     },
     "user_tz": -120
    },
    "id": "iDrmAA9W3IXN"
   },
   "outputs": [],
   "source": [
    "out=model.activations(train_dataset[N_images//2+2][0].view(1,1,11,11))\n",
    "out=model.activations(train_dataset[0][0].view(1,1,11,11))"
   ]
  },
  {
   "cell_type": "markdown",
   "metadata": {
    "id": "M5ZQy1w_3IXN"
   },
   "source": [
    "Plot them out"
   ]
  },
  {
   "cell_type": "code",
   "execution_count": 28,
   "metadata": {
    "colab": {
     "base_uri": "https://localhost:8080/",
     "height": 320
    },
    "executionInfo": {
     "elapsed": 487,
     "status": "ok",
     "timestamp": 1727967892491,
     "user": {
      "displayName": "Hayk Asatryan",
      "userId": "11449751140065047830"
     },
     "user_tz": -120
    },
    "id": "yUJ7xEKc3IXO",
    "outputId": "a1664549-0f84-435c-964a-59c74ee73db9"
   },
   "outputs": [
    {
     "name": "stdout",
     "output_type": "stream",
     "text": [
      "2\n"
     ]
    },
    {
     "data": {
      "image/png": "[encoded data removed]",
      "text/plain": [
       "<Figure size 640x480 with 2 Axes>"
      ]
     },
     "metadata": {},
     "output_type": "display_data"
    }
   ],
   "source": [
    "plot_activations(out[0],number_rows=1,name=\" feature map\")\n",
    "plt.show()"
   ]
  },
  {
   "cell_type": "code",
   "execution_count": 29,
   "metadata": {
    "colab": {
     "base_uri": "https://localhost:8080/",
     "height": 468
    },
    "executionInfo": {
     "elapsed": 40,
     "status": "ok",
     "timestamp": 1727967892493,
     "user": {
      "displayName": "Hayk Asatryan",
      "userId": "11449751140065047830"
     },
     "user_tz": -120
    },
    "id": "aVONRDrQ3IXO",
    "outputId": "3e75f07a-5fa0-4078-d7e9-ce920934ed3d"
   },
   "outputs": [
    {
     "name": "stdout",
     "output_type": "stream",
     "text": [
      "1\n"
     ]
    },
    {
     "data": {
      "image/png": "[encoded data removed]",
      "text/plain": [
       "<Figure size 640x480 with 1 Axes>"
      ]
     },
     "metadata": {},
     "output_type": "display_data"
    }
   ],
   "source": [
    "plot_activations(out[2],number_rows=1,name=\"2nd feature map\")\n",
    "plt.show()"
   ]
  },
  {
   "cell_type": "code",
   "execution_count": 30,
   "metadata": {
    "colab": {
     "base_uri": "https://localhost:8080/",
     "height": 468
    },
    "executionInfo": {
     "elapsed": 632,
     "status": "ok",
     "timestamp": 1727967893099,
     "user": {
      "displayName": "Hayk Asatryan",
      "userId": "11449751140065047830"
     },
     "user_tz": -120
    },
    "id": "yDpAGYNG3IXP",
    "outputId": "cebd22a4-2dbd-4261-cc35-a836e0b71feb"
   },
   "outputs": [
    {
     "name": "stdout",
     "output_type": "stream",
     "text": [
      "1\n"
     ]
    },
    {
     "data": {
      "image/png": "[encoded data removed]",
      "text/plain": [
       "<Figure size 640x480 with 1 Axes>"
      ]
     },
     "metadata": {},
     "output_type": "display_data"
    }
   ],
   "source": [
    "plot_activations(out[3],number_rows=1,name=\"first feature map\")\n",
    "plt.show()"
   ]
  },
  {
   "cell_type": "markdown",
   "metadata": {
    "id": "CqrqpmAE3IXQ"
   },
   "source": [
    "We save the output of the activation after flattening:"
   ]
  },
  {
   "cell_type": "code",
   "execution_count": 31,
   "metadata": {
    "executionInfo": {
     "elapsed": 29,
     "status": "ok",
     "timestamp": 1727967893099,
     "user": {
      "displayName": "Hayk Asatryan",
      "userId": "11449751140065047830"
     },
     "user_tz": -120
    },
    "id": "4mkSRcSw3IXQ"
   },
   "outputs": [],
   "source": [
    "out1=out[4][0].detach().numpy()"
   ]
  },
  {
   "cell_type": "markdown",
   "metadata": {
    "id": "D9h1N-1-3IXS"
   },
   "source": [
    "We can do the same for a sample  where y=0 :"
   ]
  },
  {
   "cell_type": "code",
   "execution_count": 32,
   "metadata": {
    "colab": {
     "base_uri": "https://localhost:8080/"
    },
    "executionInfo": {
     "elapsed": 27,
     "status": "ok",
     "timestamp": 1727967893100,
     "user": {
      "displayName": "Hayk Asatryan",
      "userId": "11449751140065047830"
     },
     "user_tz": -120
    },
    "id": "3XueZUn33IXS",
    "outputId": "8391a124-db88-463d-8b25-d15a7b985a14"
   },
   "outputs": [
    {
     "data": {
      "text/plain": [
       "array([0.73658615, 1.7901347 , 2.4708781 , 2.4708781 , 2.4615147 ,\n",
       "       2.0445828 , 0.9567027 , 0.5976251 , 1.3714947 , 1.7411016 ,\n",
       "       1.7411016 , 1.740558  , 1.4170406 , 0.7928052 , 0.5976251 ,\n",
       "       1.4352431 , 2.1089702 , 2.2050793 , 2.2050793 , 1.7828642 ,\n",
       "       0.7928052 , 0.5976251 , 1.4358921 , 2.1089702 , 2.2050793 ,\n",
       "       2.2050793 , 1.7828642 , 0.7928052 , 0.5976251 , 1.4358921 ,\n",
       "       2.0414119 , 2.0999787 , 2.0999787 , 1.6560086 , 0.7928052 ,\n",
       "       0.5976251 , 1.296931  , 1.719854  , 1.719854  , 1.719854  ,\n",
       "       1.4921111 , 0.7928052 , 0.63030964, 1.4468597 , 1.9367993 ,\n",
       "       1.9367993 , 1.9367993 , 1.6763717 , 0.8598216 ], dtype=float32)"
      ]
     },
     "execution_count": 32,
     "metadata": {},
     "output_type": "execute_result"
    }
   ],
   "source": [
    "out0=model.activations(train_dataset[100][0].view(1,1,11,11))[4][0].detach().numpy()\n",
    "out0"
   ]
  },
  {
   "cell_type": "code",
   "execution_count": 33,
   "metadata": {
    "colab": {
     "base_uri": "https://localhost:8080/",
     "height": 510
    },
    "executionInfo": {
     "elapsed": 596,
     "status": "ok",
     "timestamp": 1727967893677,
     "user": {
      "displayName": "Hayk Asatryan",
      "userId": "11449751140065047830"
     },
     "user_tz": -120
    },
    "id": "rjnpz5QP3IXS",
    "outputId": "991e4d24-0ec7-40ee-8222-770d893b8566"
   },
   "outputs": [
    {
     "data": {
      "text/plain": [
       "Text(0, 0.5, 'Activation')"
      ]
     },
     "execution_count": 33,
     "metadata": {},
     "output_type": "execute_result"
    },
    {
     "data": {
      "image/png": "[encoded data removed]",
      "text/plain": [
       "<Figure size 640x480 with 2 Axes>"
      ]
     },
     "metadata": {},
     "output_type": "display_data"
    }
   ],
   "source": [
    "plt.subplot(2, 1, 1)\n",
    "plt.plot( out1, 'b')\n",
    "plt.title('Flatted Activation Values  ')\n",
    "plt.ylabel('Activation')\n",
    "plt.xlabel('index')\n",
    "plt.subplot(2, 1, 2)\n",
    "plt.plot(out0, 'r')\n",
    "plt.xlabel('index')\n",
    "plt.ylabel('Activation')"
   ]
  },
  {
   "cell_type": "markdown",
   "metadata": {
    "id": "93XYI--O3IXT"
   },
   "source": [
    "### About the Authors:  \n",
    "[Joseph Santarcangelo]( https://www.linkedin.com/in/joseph-s-50398b136/) has a PhD in Electrical Engineering. His research focused on using machine learning, signal processing and computer vision to determine how videos impact human cognition.\n",
    "\n",
    "Other contributors: [Michelle Carey](  https://www.linkedin.com/in/michelleccarey/)"
   ]
  },
  {
   "cell_type": "markdown",
   "metadata": {
    "id": "5LBDQBJ03IXT"
   },
   "source": [
    "  <hr>\n",
    "Copyright &copy; 2018 [cognitiveclass.ai](cognitiveclass.ai?utm_source=bducopyrightlink&utm_medium=dswb&utm_campaign=bdu). This notebook and its source code are released under the terms of the [MIT License](https://bigdatauniversity.com/mit-license/)."
   ]
  }
 ],
 "metadata": {
  "colab": {
   "provenance": []
  },
  "kernelspec": {
   "display_name": "Python 3 (ipykernel)",
   "language": "python",
   "name": "python3"
  },
  "language_info": {
   "codemirror_mode": {
    "name": "ipython",
    "version": 3
   },
   "file_extension": ".py",
   "mimetype": "text/x-python",
   "name": "python",
   "nbconvert_exporter": "python",
   "pygments_lexer": "ipython3",
   "version": "3.10.6"
  },
  "toc": {
   "base_numbering": 1,
   "nav_menu": {},
   "number_sections": true,
   "sideBar": true,
   "skip_h1_title": false,
   "title_cell": "Table of Contents",
   "title_sidebar": "Contents",
   "toc_cell": false,
   "toc_position": {},
   "toc_section_display": true,
   "toc_window_display": false
  }
 },
 "nbformat": 4,
 "nbformat_minor": 1
}
