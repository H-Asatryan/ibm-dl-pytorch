{
 "cells": [
  {
   "cell_type": "markdown",
   "id": "40065b00",
   "metadata": {},
   "source": [
    "Quiz: Softmax Function: Using Lines to Classify Data"
   ]
  },
  {
   "cell_type": "code",
   "execution_count": 2,
   "id": "f1a3c29c",
   "metadata": {},
   "outputs": [],
   "source": [
    "import torch"
   ]
  },
  {
   "cell_type": "markdown",
   "id": "9cb25b81",
   "metadata": {
    "heading_collapsed": true
   },
   "source": [
    "# Task 1"
   ]
  },
  {
   "cell_type": "code",
   "execution_count": null,
   "id": "50b8a198",
   "metadata": {
    "hidden": true
   },
   "outputs": [],
   "source": []
  },
  {
   "cell_type": "code",
   "execution_count": 3,
   "id": "cad53de0",
   "metadata": {
    "hidden": true
   },
   "outputs": [],
   "source": [
    " z = torch.tensor([[2,5,0],[10,8,2],[6,5,1]])\n",
    "_, yhat = z.max(1) "
   ]
  },
  {
   "cell_type": "code",
   "execution_count": 9,
   "id": "7486ad1d",
   "metadata": {
    "hidden": true
   },
   "outputs": [
    {
     "data": {
      "text/plain": [
       "torch.return_types.max(\n",
       "values=tensor([ 5, 10,  6]),\n",
       "indices=tensor([1, 0, 0]))"
      ]
     },
     "execution_count": 9,
     "metadata": {},
     "output_type": "execute_result"
    }
   ],
   "source": [
    "z.max(1)"
   ]
  },
  {
   "cell_type": "code",
   "execution_count": 4,
   "id": "1667e157",
   "metadata": {
    "hidden": true
   },
   "outputs": [
    {
     "data": {
      "text/plain": [
       "tensor([1, 0, 0])"
      ]
     },
     "execution_count": 4,
     "metadata": {},
     "output_type": "execute_result"
    }
   ],
   "source": [
    "yhat"
   ]
  },
  {
   "cell_type": "markdown",
   "id": "28d12dea",
   "metadata": {
    "heading_collapsed": true
   },
   "source": [
    "# Task 2"
   ]
  },
  {
   "cell_type": "code",
   "execution_count": 10,
   "id": "0b951fe1",
   "metadata": {
    "hidden": true
   },
   "outputs": [
    {
     "data": {
      "text/plain": [
       "tensor([0, 0, 0])"
      ]
     },
     "execution_count": 10,
     "metadata": {},
     "output_type": "execute_result"
    }
   ],
   "source": [
    " z = torch.tensor([[10,5,0],[10,8,2],[10,5,1]])\n",
    "\n",
    "_, yhat = z.max(1)\n",
    "\n",
    "yhat"
   ]
  },
  {
   "cell_type": "markdown",
   "id": "cf607de7",
   "metadata": {},
   "source": [
    "# Task 3\n",
    "\n",
    "We have two input features and four classes, what are the parameters for Softmax() constructor according to the above code?"
   ]
  },
  {
   "cell_type": "code",
   "execution_count": 14,
   "id": "816b6b20",
   "metadata": {},
   "outputs": [],
   "source": [
    " class Softmax (torch.nn.Module):\n",
    "        def __init__(self, in_size, out_size):\n",
    "            super(Softmax, self).__init__()\n",
    "            self.linear=torch.nn.Linear(in_size, out_size)\n",
    "        \n",
    "        def forward(self, x):\n",
    "            out=self.linear(x)\n",
    "            return out "
   ]
  },
  {
   "cell_type": "code",
   "execution_count": 15,
   "id": "500cfb91",
   "metadata": {},
   "outputs": [
    {
     "data": {
      "text/plain": [
       "Softmax(\n",
       "  (linear): Linear(in_features=2, out_features=4, bias=True)\n",
       ")"
      ]
     },
     "execution_count": 15,
     "metadata": {},
     "output_type": "execute_result"
    }
   ],
   "source": [
    "Softmax(2,4)"
   ]
  },
  {
   "cell_type": "markdown",
   "id": "e06591e3",
   "metadata": {},
   "source": [
    "# Task 4\n",
    "\n",
    "If we have two input features and three classes, what are the parameters for Softmax() constructor according to the above code?"
   ]
  },
  {
   "cell_type": "code",
   "execution_count": 16,
   "id": "4aed3656",
   "metadata": {},
   "outputs": [
    {
     "data": {
      "text/plain": [
       "Softmax(\n",
       "  (linear): Linear(in_features=2, out_features=3, bias=True)\n",
       ")"
      ]
     },
     "execution_count": 16,
     "metadata": {},
     "output_type": "execute_result"
    }
   ],
   "source": [
    "Softmax(2,3)"
   ]
  }
 ],
 "metadata": {
  "jupytext": {
   "formats": "ipynb,auto:light"
  },
  "kernelspec": {
   "display_name": "Python 3 (ipykernel)",
   "language": "python",
   "name": "python3"
  },
  "language_info": {
   "codemirror_mode": {
    "name": "ipython",
    "version": 3
   },
   "file_extension": ".py",
   "mimetype": "text/x-python",
   "name": "python",
   "nbconvert_exporter": "python",
   "pygments_lexer": "ipython3",
   "version": "3.10.6"
  }
 },
 "nbformat": 4,
 "nbformat_minor": 5
}
